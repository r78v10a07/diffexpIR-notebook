{
 "cells": [
  {
   "cell_type": "markdown",
   "metadata": {},
   "source": [
    "## IRFinder: assessing the impact of intron retention on mammalian gene expression.\n",
    "### Genome Biol. 2017 Mar 15;18(1):51. doi: 10.1186/s13059-017-1184-4.\n",
    "\n",
    "URL: https://www.ncbi.nlm.nih.gov/pubmed/28298237\n",
    "\n",
    "### DataSets\n",
    "\n",
    "* Simulated dataset: data/IRFinder_GenBio_2017_18_51"
   ]
  },
  {
   "cell_type": "code",
   "execution_count": 16,
   "metadata": {
    "collapsed": true
   },
   "outputs": [],
   "source": [
    "# Set the environment variables to be used during the project \n",
    "\n",
    "import os\n",
    "import re\n",
    "import xmltodict\n",
    "import warnings\n",
    "import pandas\n",
    "import json\n",
    "import math\n",
    "import numpy as np\n",
    "import scipy.stats as stats\n",
    "\n",
    "import matplotlib\n",
    "import matplotlib.pyplot as plt\n",
    "from matplotlib import gridspec\n",
    "from matplotlib_venn import venn2, venn2_circles\n",
    "\n",
    "from six.moves import cPickle as pickle\n",
    "from statsmodels.stats.multitest import fdrcorrection_twostage\n",
    "from pandas import read_csv\n",
    "\n",
    "warnings.filterwarnings('error')\n",
    "\n",
    "from Bio import Entrez\n",
    "Entrez.email = \"r78v10a07@gmail.com\"\n",
    "\n",
    "###############################################################\n",
    "#\n",
    "#    Update this path\n",
    "#\n",
    "###############################################################\n",
    "os.environ['WORKDIR'] = os.path.abspath('/panfs/pan1.be-md.ncbi.nlm.nih.gov/alt_splicing/bioNotebook-DiffExpIR')\n",
    "###############################################################\n",
    "\n",
    "os.environ['CONFIG'] = os.environ['WORKDIR'] + '/config'\n",
    "os.environ['DATA'] = os.environ['WORKDIR'] + '/data'\n",
    "os.environ['BIN'] = os.environ['WORKDIR'] + '/bin'\n",
    "os.environ['RESULTS'] = os.environ['WORKDIR'] + '/results'\n",
    "os.environ['DOC'] = os.environ['WORKDIR'] + '/docs'\n",
    "os.environ['SRC'] = os.environ['WORKDIR'] + '/src'\n",
    "\n",
    "os.environ['DATADIR'] = 'IRFinder_GenBio_2017_18_51'"
   ]
  },
  {
   "cell_type": "markdown",
   "metadata": {},
   "source": [
    "## Processing the simulated data with STAR"
   ]
  },
  {
   "cell_type": "code",
   "execution_count": 8,
   "metadata": {},
   "outputs": [],
   "source": [
    "%%bash\n",
    "\n",
    "mkdir -p ${RESULTS}/${DATADIR}\n",
    "cd ${RESULTS}/${DATADIR}\n",
    "if [ ! -e \"STAR_hg19_Human\" ]\n",
    "then\n",
    "    mkdir STAR_hg19_Human\n",
    "    cd STAR_hg19_Human\n",
    "    for f in ${DATA}/${DATADIR}/simulated_BAM/*.1.fq\n",
    "    do\n",
    "        n=`basename $f`\n",
    "        n=${n%.1.fq}\n",
    "        mkdir $n\n",
    "        cd $n\n",
    "        $BIN/STAR --runThreadN 4 --genomeDir $DATA/hg19/STAR --outSAMtype BAM Unsorted --outStd BAM_Unsorted --readFilesIn $f ${DATA}/${DATADIR}/simulated_BAM/${n}.2.fq  > ${n}.bam\n",
    "        samtools flagstat ${n}.bam > ${n}.stats\n",
    "        samtools sort --threads 4 -o ${n}_sorted.bam ${n}.bam\n",
    "        samtools index ${n}_sorted.bam ${n}_sorted.bam.bai\n",
    "        mv ${n}_sorted.bam ${n}.stats ${n}_sorted.bam.bai ../\n",
    "        cd ..\n",
    "        rm -rf $n\n",
    "    done\n",
    "fi"
   ]
  },
  {
   "cell_type": "markdown",
   "metadata": {},
   "source": [
    "## Processing alignments with the TPMCalculator"
   ]
  },
  {
   "cell_type": "code",
   "execution_count": 10,
   "metadata": {
    "scrolled": true
   },
   "outputs": [
    {
     "name": "stderr",
     "output_type": "stream",
     "text": [
      "Reading GTF file ... \n",
      "Done in 19.3 seconds\n",
      "Parsing sample: sim1-fake-qual_rep1_sorted 450464 reads processed in 8.74 seconds\n",
      "Printing results\n",
      "Total time: 33.16 seconds\n",
      "Reading GTF file ... \n",
      "Done in 18.95 seconds\n",
      "Parsing sample: sim1-fake-qual_rep2_sorted 406252 reads processed in 8.1 seconds\n",
      "Printing results\n",
      "Total time: 32.27 seconds\n",
      "Reading GTF file ... \n",
      "Done in 19.29 seconds\n",
      "Parsing sample: sim2-fake-qual_rep1_sorted 904722 reads processed in 13.64 seconds\n",
      "Printing results\n",
      "Total time: 38.46 seconds\n",
      "Reading GTF file ... \n",
      "Done in 19.17 seconds\n",
      "Parsing sample: sim2-fake-qual_rep2_sorted 815778 reads processed in 13.18 seconds\n",
      "Printing results\n",
      "Total time: 38.02 seconds\n"
     ]
    }
   ],
   "source": [
    "%%bash\n",
    "\n",
    "cd ${RESULTS}/${DATADIR}/STAR_hg19_Human\n",
    "for a in *.bam\n",
    "do\n",
    "    TPMCalculator -g $DATA/hg19/genes.gtf -b $a -p > ${a%.bam}.TPMlog\n",
    "done"
   ]
  },
  {
   "cell_type": "markdown",
   "metadata": {},
   "source": [
    "## Processing the TPMCalculator with a Python version of the DiffExpIR\n",
    "\n",
    "### Creating a list of samples to process"
   ]
  },
  {
   "cell_type": "code",
   "execution_count": 12,
   "metadata": {},
   "outputs": [],
   "source": [
    "os.chdir(os.environ['RESULTS'] + '/' + os.environ['DATADIR'] + '/STAR_hg19_Human')\n",
    "samples = {'ctrl' : [], 'treat':[]}\n",
    "files = [name for root, dirs, files in os.walk('./') for name in files if name.endswith(\"_genes.ent\")]\n",
    "for f in files:\n",
    "    n = f.split('-')[0]\n",
    "    if n == \"sim1\":\n",
    "        samples['ctrl'].append(f)\n",
    "    else:\n",
    "        samples['treat'].append(f)"
   ]
  },
  {
   "cell_type": "markdown",
   "metadata": {},
   "source": [
    "### Parsing IRFinder description file"
   ]
  },
  {
   "cell_type": "code",
   "execution_count": 22,
   "metadata": {},
   "outputs": [
    {
     "data": {
      "text/html": [
       "<div>\n",
       "<style>\n",
       "    .dataframe thead tr:only-child th {\n",
       "        text-align: right;\n",
       "    }\n",
       "\n",
       "    .dataframe thead th {\n",
       "        text-align: left;\n",
       "    }\n",
       "\n",
       "    .dataframe tbody tr th {\n",
       "        vertical-align: top;\n",
       "    }\n",
       "</style>\n",
       "<table border=\"1\" class=\"dataframe\">\n",
       "  <thead>\n",
       "    <tr style=\"text-align: right;\">\n",
       "      <th></th>\n",
       "      <th>Chromosome</th>\n",
       "      <th>Start</th>\n",
       "      <th>End</th>\n",
       "      <th>Name</th>\n",
       "      <th>Positive/Negative Control</th>\n",
       "      <th>Detection</th>\n",
       "    </tr>\n",
       "  </thead>\n",
       "  <tbody>\n",
       "    <tr>\n",
       "      <th>0</th>\n",
       "      <td>1</td>\n",
       "      <td>1271896.0</td>\n",
       "      <td>1273356.0</td>\n",
       "      <td>dvl1_intron_1</td>\n",
       "      <td>T</td>\n",
       "      <td>MISO,DEXSeq,IRFinder</td>\n",
       "    </tr>\n",
       "    <tr>\n",
       "      <th>1</th>\n",
       "      <td>1</td>\n",
       "      <td>1273564.0</td>\n",
       "      <td>1273648.0</td>\n",
       "      <td>dvl1_intron_2</td>\n",
       "      <td>FS</td>\n",
       "      <td>NaN</td>\n",
       "    </tr>\n",
       "    <tr>\n",
       "      <th>2</th>\n",
       "      <td>1</td>\n",
       "      <td>1273817.0</td>\n",
       "      <td>1273901.0</td>\n",
       "      <td>dvl1_intron_3</td>\n",
       "      <td>T</td>\n",
       "      <td>NaN</td>\n",
       "    </tr>\n",
       "    <tr>\n",
       "      <th>3</th>\n",
       "      <td>1</td>\n",
       "      <td>1274034.0</td>\n",
       "      <td>1274741.0</td>\n",
       "      <td>dvl1_intron_4</td>\n",
       "      <td>FR</td>\n",
       "      <td>DEXSeq</td>\n",
       "    </tr>\n",
       "    <tr>\n",
       "      <th>4</th>\n",
       "      <td>1</td>\n",
       "      <td>1274820.0</td>\n",
       "      <td>1274961.0</td>\n",
       "      <td>dvl1_intron_5</td>\n",
       "      <td>T</td>\n",
       "      <td>DEXSeq,IRFinder</td>\n",
       "    </tr>\n",
       "  </tbody>\n",
       "</table>\n",
       "</div>"
      ],
      "text/plain": [
       "  Chromosome      Start        End           Name Positive/Negative Control  \\\n",
       "0          1  1271896.0  1273356.0  dvl1_intron_1                         T   \n",
       "1          1  1273564.0  1273648.0  dvl1_intron_2                        FS   \n",
       "2          1  1273817.0  1273901.0  dvl1_intron_3                         T   \n",
       "3          1  1274034.0  1274741.0  dvl1_intron_4                        FR   \n",
       "4          1  1274820.0  1274961.0  dvl1_intron_5                         T   \n",
       "\n",
       "              Detection  \n",
       "0  MISO,DEXSeq,IRFinder  \n",
       "1                   NaN  \n",
       "2                   NaN  \n",
       "3                DEXSeq  \n",
       "4       DEXSeq,IRFinder  "
      ]
     },
     "execution_count": 22,
     "metadata": {},
     "output_type": "execute_result"
    }
   ],
   "source": [
    "IRdata = pandas.read_excel(os.environ['DATA'] + '/' + os.environ['DATADIR'] + '/README.xlsx')\n",
    "IRdata.head()"
   ]
  },
  {
   "cell_type": "markdown",
   "metadata": {},
   "source": [
    "### Function to parser the TPMCalculator data files"
   ]
  },
  {
   "cell_type": "code",
   "execution_count": 14,
   "metadata": {},
   "outputs": [],
   "source": [
    "def extract_data(ctrl_dir, ctl_samples, treat_dir, treat_samples):\n",
    "    samples = {}\n",
    "    for file in ctl_samples:\n",
    "        print(\"Parsing file %s\" % os.path.join(ctrl_dir, file))\n",
    "        data = pandas.read_csv(os.path.join(ctrl_dir, file), sep='\\t')\n",
    "        for chr in data.Chr.unique():\n",
    "            if '_' not in chr:\n",
    "                if chr not in samples:\n",
    "                    samples[chr] = {}\n",
    "                for g in data.loc[data['Chr'] == chr, 'Gene_Id'].unique():\n",
    "                    if g not in samples[chr]:\n",
    "                        samples[chr][g] = {}\n",
    "        for index, row in data.iterrows():\n",
    "            chr = row['Chr']\n",
    "            if '_' not in chr:\n",
    "                g = row['Gene_Id']\n",
    "                c = int(row['Type_Number'])\n",
    "                start = int(row['start']) + 1\n",
    "                end = int(row['end']) + 1\n",
    "                if c not in samples[chr][g]:\n",
    "                    samples[chr][g][c] = {'type': row['Type'], 'start': start, 'end': end,\n",
    "                                          'TPM_list_ctrl': [], 'Reads_list_ctrl': [], 'TPM_ctrl': 0,\n",
    "                                          'Reads_ctrl': 0,\n",
    "                                          'TPM_list_treat': [], 'Reads_list_treat': [], 'TPM_treat': 0,\n",
    "                                          'Reads_treat': 0}\n",
    "                tpm = float(row['TPM'])\n",
    "#                 if tpm < 10E-6:\n",
    "#                     tpm = 10E-6\n",
    "                samples[chr][g][c]['TPM_list_ctrl'].append(tpm)\n",
    "                samples[chr][g][c]['Reads_list_ctrl'].append(int(row['Count_Reads']))\n",
    "                samples[chr][g][c]['TPM_ctrl'] = np.mean(samples[chr][g][c]['TPM_list_ctrl'])\n",
    "                samples[chr][g][c]['Reads_ctrl'] = np.mean(samples[chr][g][c]['Reads_list_ctrl'])\n",
    "    for file in treat_samples:\n",
    "        print(\"Parsing file %s\" % os.path.join(treat_dir, file))\n",
    "        data = pandas.read_csv(os.path.join(treat_dir, file), sep='\\t')\n",
    "        for chr in data.Chr.unique():\n",
    "            if '_' not in chr:\n",
    "                if chr not in samples:\n",
    "                    samples[chr] = {}\n",
    "                for g in data.loc[data['Chr'] == chr, 'Gene_Id'].unique():\n",
    "                    if g not in samples[chr]:\n",
    "                        samples[chr][g] = {}\n",
    "        for index, row in data.iterrows():\n",
    "            chr = row['Chr']\n",
    "            if '_' not in chr:\n",
    "                g = row['Gene_Id']\n",
    "                c = int(row['Type_Number'])\n",
    "                start = int(row['start']) + 1\n",
    "                end = int(row['end']) + 1\n",
    "                if c not in samples[chr][g]:\n",
    "                    samples[chr][g][c] = {'type': row['Type'], 'start': start, 'end': end,\n",
    "                                          'TPM_list_ctrl': [], 'Reads_list_ctrl': [], 'TPM_ctrl': 0,\n",
    "                                          'Reads_ctrl': 0,\n",
    "                                          'TPM_list_treat': [], 'Reads_list_treat': [], 'TPM_treat': 0,\n",
    "                                          'Reads_treat': 0}\n",
    "                tpm = float(row['TPM'])\n",
    "#                 if tpm < 10E-6:\n",
    "#                     tpm = 10E-6\n",
    "                samples[chr][g][c]['TPM_list_treat'].append(tpm)\n",
    "                samples[chr][g][c]['Reads_list_treat'].append(int(row['Count_Reads']))\n",
    "                samples[chr][g][c]['TPM_treat'] = np.mean(samples[chr][g][c]['TPM_list_treat'])\n",
    "                samples[chr][g][c]['Reads_treat'] = np.mean(samples[chr][g][c]['Reads_list_treat'])\n",
    "    return samples"
   ]
  },
  {
   "cell_type": "markdown",
   "metadata": {},
   "source": [
    "### Creating a pickle file to store the oython objects used by the DiffExpIR algorithm"
   ]
  },
  {
   "cell_type": "code",
   "execution_count": 17,
   "metadata": {},
   "outputs": [
    {
     "name": "stdout",
     "output_type": "stream",
     "text": [
      "Parsing file ./sim1-fake-qual_rep1_sorted_genes.ent\n",
      "Parsing file ./sim1-fake-qual_rep2_sorted_genes.ent\n",
      "Parsing file ./sim2-fake-qual_rep1_sorted_genes.ent\n",
      "Parsing file ./sim2-fake-qual_rep2_sorted_genes.ent\n",
      "Pickling ...\n"
     ]
    }
   ],
   "source": [
    "os.chdir(os.environ['RESULTS'] + '/' + os.environ['DATADIR'] + '/STAR_hg19_Human')\n",
    "pickle_file = 'samples_data.pickle'\n",
    "if not os.path.exists(pickle_file):    \n",
    "    try:\n",
    "        samples_data = extract_data('./', samples['ctrl'], './', samples['treat'])\n",
    "        print('Pickling ...')    \n",
    "        with open(pickle_file, 'wb') as f:\n",
    "            pickle.dump(samples_data, f, pickle.HIGHEST_PROTOCOL)\n",
    "    except Exception as e:\n",
    "        print('Unable to save data to', pickle_file, ':', e)\n",
    "else:\n",
    "    try:\n",
    "        print('Reading from pickle file ...')  \n",
    "        with open(pickle_file, 'rb') as f:\n",
    "            samples_data = pickle.load(f)\n",
    "    except Exception as e:\n",
    "        print('Unable to process data from', pickle_file, ':', e)\n",
    "        raise"
   ]
  },
  {
   "cell_type": "markdown",
   "metadata": {},
   "source": [
    "### Function to process one gene"
   ]
  },
  {
   "cell_type": "code",
   "execution_count": 19,
   "metadata": {
    "collapsed": true
   },
   "outputs": [],
   "source": [
    "def process_one(chr, g, a, samples):\n",
    "    equal_var = False\n",
    "    if len(samples[chr][g][a]['TPM_list_treat']) == len(samples[chr][g][a]['TPM_list_ctrl']):\n",
    "        equal_var = True\n",
    "    t, p = stats.ttest_ind(samples[chr][g][a]['TPM_list_treat'],\n",
    "                           samples[chr][g][a]['TPM_list_ctrl'], equal_var=equal_var)\n",
    "\n",
    "    c = a - 1\n",
    "    e11 = 0.0\n",
    "    e21 = 0.0\n",
    "    e12 = 0.0\n",
    "    e22 = 0.0\n",
    "    while c != 0:\n",
    "        if samples[chr][g][c]['type'] == 'exon':\n",
    "            e11 = samples[chr][g][c]['TPM_ctrl']\n",
    "            e21 = samples[chr][g][c]['TPM_treat']\n",
    "            break\n",
    "        c -= 1\n",
    "    c = a + 1\n",
    "    while c != len(samples[chr][g]):\n",
    "        if samples[chr][g][c]['type'] == 'exon':\n",
    "            e12 = samples[chr][g][c]['TPM_ctrl']\n",
    "            e22 = samples[chr][g][c]['TPM_treat']\n",
    "            break\n",
    "        c += 1\n",
    "    samples[chr][g][a]['p'] = p\n",
    "    minuslog10p = -1.0 * math.log10(p)\n",
    "    r1 = math.log2(samples[chr][g][a]['TPM_ctrl'] / (e11 + e12))\n",
    "    r2 = math.log2(samples[chr][g][a]['TPM_treat'] / (e21 + e22))\n",
    "    log2TPMRatio = math.log2(samples[chr][g][a]['TPM_treat'] / samples[chr][g][a]['TPM_ctrl'])  \n",
    "    return p, minuslog10p, r1, r2, log2TPMRatio"
   ]
  },
  {
   "cell_type": "markdown",
   "metadata": {},
   "source": [
    "### Function to process all data"
   ]
  },
  {
   "cell_type": "code",
   "execution_count": 20,
   "metadata": {
    "collapsed": true
   },
   "outputs": [],
   "source": [
    "def process_sample(samples):   \n",
    "    count = 0\n",
    "    for chr in samples:\n",
    "        for g in samples[chr]:\n",
    "            for a in samples[chr][g]:\n",
    "                try:\n",
    "                    if samples[chr][g][a]['type'] == 'intron':\n",
    "                        p, minuslog10p, r1, r2, log2TPMRatio = process_one(chr, g, a, samples)\n",
    "                        samples[chr][g][a]['p'] = p\n",
    "                        samples[chr][g][a]['minuslog10p'] = minuslog10p\n",
    "                        samples[chr][g][a]['r1'] = r1\n",
    "                        samples[chr][g][a]['r2'] = r2\n",
    "                        samples[chr][g][a]['log2TPMRatio'] = log2TPMRatio                   \n",
    "                except Exception as inst:\n",
    "                    pass\n",
    "    return samples"
   ]
  },
  {
   "cell_type": "code",
   "execution_count": 21,
   "metadata": {
    "collapsed": true
   },
   "outputs": [],
   "source": [
    "samples_data = process_sample(samples_data)"
   ]
  },
  {
   "cell_type": "code",
   "execution_count": 23,
   "metadata": {
    "collapsed": true
   },
   "outputs": [],
   "source": [
    "def process_plot(samples, r, p):\n",
    "    x_intron = []\n",
    "    y_intron = []\n",
    "    c_intron = []\n",
    "    for chr in samples:\n",
    "        for g in samples[chr]:\n",
    "            for a in samples[chr][g]:\n",
    "                if samples[chr][g][a]['type'] == 'intron' and 'r1' in samples[chr][g][a]:\n",
    "                    if samples[chr][g][a]['r1'] > r or samples[chr][g][a]['r2'] > r:\n",
    "                        y_intron.append(samples[chr][g][a]['minuslog10p'])\n",
    "                        x_intron.append(samples[chr][g][a]['log2TPMRatio'])\n",
    "                        if abs(samples[chr][g][a]['log2TPMRatio']) > 2 and samples[chr][g][a]['p'] < p:\n",
    "                            c_intron.append('red')\n",
    "                        else:\n",
    "                            c_intron.append('black')                    \n",
    "    return x_intron, y_intron, c_intron    "
   ]
  },
  {
   "cell_type": "code",
   "execution_count": 24,
   "metadata": {},
   "outputs": [
    {
     "data": {
      "image/png": "[encoded data removed]",
      "text/plain": [
       "<matplotlib.figure.Figure at 0x7f793d460cc0>"
      ]
     },
     "metadata": {},
     "output_type": "display_data"
    }
   ],
   "source": [
    "x_intron, y_intron, c_intron = process_plot(samples_data, -1.0, 1E-6)\n",
    "plt.xlabel(r'$log_{2}(\\frac{TPM_{Intron/cond2}}{TPM_{Intron/cond1}})$')\n",
    "plt.scatter(x_intron, y_intron, s=1, c=c_intron)\n",
    "plt.show()"
   ]
  },
  {
   "cell_type": "code",
   "execution_count": 32,
   "metadata": {},
   "outputs": [
    {
     "name": "stdout",
     "output_type": "stream",
     "text": [
      "{'end': 1273356, 'minuslog10p': 0.2096962912238558, 'TPM_treat': 1.5997950000000001, 'r1': -7.138975075347751, 'TPM_ctrl': 1.49244, 'start': 1271896, 'Reads_treat': 30.0, 'p': 0.61702634698607728, 'Reads_list_ctrl': [16, 12], 'r2': -7.069183418113394, 'Reads_list_treat': [34, 26], 'log2TPMRatio': 0.1002141154341843, 'Reads_ctrl': 14.0, 'TPM_list_treat': [1.72557, 1.47402], 'TPM_list_ctrl': [1.62551, 1.35937], 'type': 'intron'}\n"
     ]
    }
   ],
   "source": [
    "for g in samples_data['chr1']:\n",
    "    for i in samples_data['chr1']['DVL1']:\n",
    "        if samples_data['chr1']['DVL1'][i]['type'] == 'intron':\n",
    "            if samples_data['chr1']['DVL1'][i]['start'] == 1271896:\n",
    "                print(samples_data['chr1']['DVL1'][i])"
   ]
  },
  {
   "cell_type": "code",
   "execution_count": null,
   "metadata": {
    "collapsed": true
   },
   "outputs": [],
   "source": []
  }
 ],
 "metadata": {
  "kernelspec": {
   "display_name": "Python 3",
   "language": "python",
   "name": "python3"
  },
  "language_info": {
   "codemirror_mode": {
    "name": "ipython",
    "version": 3
   },
   "file_extension": ".py",
   "mimetype": "text/x-python",
   "name": "python",
   "nbconvert_exporter": "python",
   "pygments_lexer": "ipython3",
   "version": "3.4.5"
  }
 },
 "nbformat": 4,
 "nbformat_minor": 2
}
