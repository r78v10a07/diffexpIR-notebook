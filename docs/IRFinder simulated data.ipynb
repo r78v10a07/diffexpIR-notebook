{
 "cells": [
  {
   "cell_type": "markdown",
   "metadata": {},
   "source": [
    "## IRFinder: assessing the impact of intron retention on mammalian gene expression.\n",
    "### Genome Biol. 2017 Mar 15;18(1):51. doi: 10.1186/s13059-017-1184-4.\n",
    "\n",
    "URL: https://www.ncbi.nlm.nih.gov/pubmed/28298237\n",
    "\n",
    "### DataSets\n",
    "\n",
    "* Simulated dataset: data/IRFinder_GenBio_2017_18_51"
   ]
  },
  {
   "cell_type": "code",
   "execution_count": 12,
   "metadata": {},
   "outputs": [],
   "source": [
    "# Set the environment variables to be used during the project \n",
    "\n",
    "import os\n",
    "import re\n",
    "import xmltodict\n",
    "import warnings\n",
    "import pandas\n",
    "import json\n",
    "import math\n",
    "import numpy as np\n",
    "import scipy.stats as stats\n",
    "\n",
    "import matplotlib\n",
    "import matplotlib.pyplot as plt\n",
    "from matplotlib import gridspec\n",
    "\n",
    "from six.moves import cPickle as pickle\n",
    "from statsmodels.stats.multitest import fdrcorrection_twostage\n",
    "from pandas import read_csv\n",
    "\n",
    "warnings.filterwarnings('error')\n",
    "\n",
    "from Bio import Entrez\n",
    "Entrez.email = \"r78v10a07@gmail.com\"\n",
    "\n",
    "###############################################################\n",
    "#\n",
    "#    Update this path\n",
    "#\n",
    "###############################################################\n",
    "os.environ['WORKDIR'] = os.path.abspath('/panfs/pan1.be-md.ncbi.nlm.nih.gov/alt_splicing/bioNotebook-DiffExpIR')\n",
    "###############################################################\n",
    "\n",
    "os.environ['CONFIG'] = os.environ['WORKDIR'] + '/config'\n",
    "os.environ['DATA'] = os.environ['WORKDIR'] + '/data'\n",
    "os.environ['BIN'] = os.environ['WORKDIR'] + '/bin'\n",
    "os.environ['RESULTS'] = os.environ['WORKDIR'] + '/results'\n",
    "os.environ['DOC'] = os.environ['WORKDIR'] + '/docs'\n",
    "os.environ['SRC'] = os.environ['WORKDIR'] + '/src'\n",
    "\n",
    "os.environ['DATADIR'] = 'IRFinder_GenBio_2017_18_51'"
   ]
  },
  {
   "cell_type": "markdown",
   "metadata": {},
   "source": [
    "## Processing the simulated data with STAR"
   ]
  },
  {
   "cell_type": "code",
   "execution_count": 8,
   "metadata": {
    "collapsed": true
   },
   "outputs": [],
   "source": [
    "%%bash\n",
    "\n",
    "mkdir -p ${RESULTS}/${DATADIR}\n",
    "cd ${RESULTS}/${DATADIR}\n",
    "if [ ! -e \"STAR_hg19_Human\" ]\n",
    "then\n",
    "    mkdir STAR_hg19_Human\n",
    "    cd STAR_hg19_Human\n",
    "    for f in ${DATA}/${DATADIR}/simulated_BAM/*.1.fq\n",
    "    do\n",
    "        n=`basename $f`\n",
    "        n=${n%.1.fq}\n",
    "        mkdir $n\n",
    "        cd $n\n",
    "        $BIN/STAR --runThreadN 4 --genomeDir $DATA/hg19/STAR --outSAMtype BAM Unsorted --outStd BAM_Unsorted --readFilesIn $f ${DATA}/${DATADIR}/simulated_BAM/${n}.2.fq  > ${n}.bam\n",
    "        samtools flagstat ${n}.bam > ${n}.stats\n",
    "        samtools sort --threads 4 -o ${n}_sorted.bam ${n}.bam\n",
    "        samtools index ${n}_sorted.bam ${n}_sorted.bam.bai\n",
    "        mv ${n}_sorted.bam ${n}.stats ${n}_sorted.bam.bai ../\n",
    "        cd ..\n",
    "        rm -rf $n\n",
    "    done\n",
    "fi"
   ]
  },
  {
   "cell_type": "markdown",
   "metadata": {},
   "source": [
    "## Processing alignments with the TPMCalculator"
   ]
  },
  {
   "cell_type": "code",
   "execution_count": 10,
   "metadata": {
    "scrolled": true
   },
   "outputs": [
    {
     "name": "stderr",
     "output_type": "stream",
     "text": [
      "Reading GTF file ... \n",
      "Done in 19.3 seconds\n",
      "Parsing sample: sim1-fake-qual_rep1_sorted 450464 reads processed in 8.74 seconds\n",
      "Printing results\n",
      "Total time: 33.16 seconds\n",
      "Reading GTF file ... \n",
      "Done in 18.95 seconds\n",
      "Parsing sample: sim1-fake-qual_rep2_sorted 406252 reads processed in 8.1 seconds\n",
      "Printing results\n",
      "Total time: 32.27 seconds\n",
      "Reading GTF file ... \n",
      "Done in 19.29 seconds\n",
      "Parsing sample: sim2-fake-qual_rep1_sorted 904722 reads processed in 13.64 seconds\n",
      "Printing results\n",
      "Total time: 38.46 seconds\n",
      "Reading GTF file ... \n",
      "Done in 19.17 seconds\n",
      "Parsing sample: sim2-fake-qual_rep2_sorted 815778 reads processed in 13.18 seconds\n",
      "Printing results\n",
      "Total time: 38.02 seconds\n"
     ]
    }
   ],
   "source": [
    "%%bash\n",
    "\n",
    "cd ${RESULTS}/${DATADIR}/STAR_hg19_Human\n",
    "for a in *.bam\n",
    "do\n",
    "    TPMCalculator -g $DATA/hg19/genes.gtf -b $a -p > ${a%.bam}.TPMlog\n",
    "done"
   ]
  },
  {
   "cell_type": "markdown",
   "metadata": {},
   "source": [
    "## Processing the TPMCalculator with a Python version of the DiffExpIR\n",
    "\n",
    "In this part, we are processing the data using a Python code which shows in a simplified way the algorithm used.\n",
    "\n",
    "### Creating a list of samples to process"
   ]
  },
  {
   "cell_type": "code",
   "execution_count": 13,
   "metadata": {},
   "outputs": [],
   "source": [
    "os.chdir(os.environ['RESULTS'] + '/' + os.environ['DATADIR'] + '/STAR_hg19_Human')\n",
    "samples = {'ctrl' : [], 'treat':[]}\n",
    "files = [name for root, dirs, files in os.walk('./') for name in files if name.endswith(\"_genes.ent\")]\n",
    "for f in files:\n",
    "    n = f.split('-')[0]\n",
    "    if n == \"sim1\":\n",
    "        samples['ctrl'].append(f)\n",
    "    else:\n",
    "        samples['treat'].append(f)"
   ]
  },
  {
   "cell_type": "markdown",
   "metadata": {},
   "source": [
    "### Parsing IRFinder description file"
   ]
  },
  {
   "cell_type": "code",
   "execution_count": 14,
   "metadata": {},
   "outputs": [
    {
     "data": {
      "text/html": [
       "<div>\n",
       "<style>\n",
       "    .dataframe thead tr:only-child th {\n",
       "        text-align: right;\n",
       "    }\n",
       "\n",
       "    .dataframe thead th {\n",
       "        text-align: left;\n",
       "    }\n",
       "\n",
       "    .dataframe tbody tr th {\n",
       "        vertical-align: top;\n",
       "    }\n",
       "</style>\n",
       "<table border=\"1\" class=\"dataframe\">\n",
       "  <thead>\n",
       "    <tr style=\"text-align: right;\">\n",
       "      <th></th>\n",
       "      <th>Chromosome</th>\n",
       "      <th>Start</th>\n",
       "      <th>End</th>\n",
       "      <th>Name</th>\n",
       "      <th>Positive/Negative Control</th>\n",
       "      <th>Detection</th>\n",
       "    </tr>\n",
       "  </thead>\n",
       "  <tbody>\n",
       "    <tr>\n",
       "      <th>0</th>\n",
       "      <td>1</td>\n",
       "      <td>1271896.0</td>\n",
       "      <td>1273356.0</td>\n",
       "      <td>dvl1_intron_1</td>\n",
       "      <td>T</td>\n",
       "      <td>MISO,DEXSeq,IRFinder</td>\n",
       "    </tr>\n",
       "    <tr>\n",
       "      <th>1</th>\n",
       "      <td>1</td>\n",
       "      <td>1273564.0</td>\n",
       "      <td>1273648.0</td>\n",
       "      <td>dvl1_intron_2</td>\n",
       "      <td>FS</td>\n",
       "      <td>NaN</td>\n",
       "    </tr>\n",
       "    <tr>\n",
       "      <th>2</th>\n",
       "      <td>1</td>\n",
       "      <td>1273817.0</td>\n",
       "      <td>1273901.0</td>\n",
       "      <td>dvl1_intron_3</td>\n",
       "      <td>T</td>\n",
       "      <td>NaN</td>\n",
       "    </tr>\n",
       "    <tr>\n",
       "      <th>3</th>\n",
       "      <td>1</td>\n",
       "      <td>1274034.0</td>\n",
       "      <td>1274741.0</td>\n",
       "      <td>dvl1_intron_4</td>\n",
       "      <td>FR</td>\n",
       "      <td>DEXSeq</td>\n",
       "    </tr>\n",
       "    <tr>\n",
       "      <th>4</th>\n",
       "      <td>1</td>\n",
       "      <td>1274820.0</td>\n",
       "      <td>1274961.0</td>\n",
       "      <td>dvl1_intron_5</td>\n",
       "      <td>T</td>\n",
       "      <td>DEXSeq,IRFinder</td>\n",
       "    </tr>\n",
       "  </tbody>\n",
       "</table>\n",
       "</div>"
      ],
      "text/plain": [
       "  Chromosome      Start        End           Name Positive/Negative Control  \\\n",
       "0          1  1271896.0  1273356.0  dvl1_intron_1                         T   \n",
       "1          1  1273564.0  1273648.0  dvl1_intron_2                        FS   \n",
       "2          1  1273817.0  1273901.0  dvl1_intron_3                         T   \n",
       "3          1  1274034.0  1274741.0  dvl1_intron_4                        FR   \n",
       "4          1  1274820.0  1274961.0  dvl1_intron_5                         T   \n",
       "\n",
       "              Detection  \n",
       "0  MISO,DEXSeq,IRFinder  \n",
       "1                   NaN  \n",
       "2                   NaN  \n",
       "3                DEXSeq  \n",
       "4       DEXSeq,IRFinder  "
      ]
     },
     "execution_count": 14,
     "metadata": {},
     "output_type": "execute_result"
    }
   ],
   "source": [
    "IRdata = pandas.read_excel(os.environ['DATA'] + '/' + os.environ['DATADIR'] + '/README.xlsx')\n",
    "IRdata.head()"
   ]
  },
  {
   "cell_type": "markdown",
   "metadata": {},
   "source": [
    "### Function to parser the TPMCalculator data files"
   ]
  },
  {
   "cell_type": "code",
   "execution_count": 15,
   "metadata": {},
   "outputs": [],
   "source": [
    "def extract_data(ctrl_dir, ctl_samples, treat_dir, treat_samples):\n",
    "    samples = {}\n",
    "    for file in ctl_samples:\n",
    "        print(\"Parsing file %s\" % os.path.join(ctrl_dir, file))\n",
    "        data = pandas.read_csv(os.path.join(ctrl_dir, file), sep='\\t')\n",
    "        for chr in data.Chr.unique():\n",
    "            if '_' not in chr:\n",
    "                if chr not in samples:\n",
    "                    samples[chr] = {}\n",
    "                for g in data.loc[data['Chr'] == chr, 'Gene_Id'].unique():\n",
    "                    if g not in samples[chr]:\n",
    "                        samples[chr][g] = {}\n",
    "        for index, row in data.iterrows():\n",
    "            chr = row['Chr']\n",
    "            if '_' not in chr:\n",
    "                g = row['Gene_Id']\n",
    "                c = int(row['Type_Number'])\n",
    "                start = int(row['start']) + 1\n",
    "                end = int(row['end']) + 1\n",
    "                if c not in samples[chr][g]:\n",
    "                    samples[chr][g][c] = {'type': row['Type'], 'start': start, 'end': end,\n",
    "                                          'TPM_list_ctrl': [], 'Reads_list_ctrl': [], 'TPM_ctrl': 0,\n",
    "                                          'Reads_ctrl': 0,\n",
    "                                          'TPM_list_treat': [], 'Reads_list_treat': [], 'TPM_treat': 0,\n",
    "                                          'Reads_treat': 0}\n",
    "                tpm = float(row['TPM'])\n",
    "                if tpm < 10E-5:\n",
    "                    tpm = 10E-5\n",
    "                samples[chr][g][c]['TPM_list_ctrl'].append(tpm)\n",
    "                samples[chr][g][c]['Reads_list_ctrl'].append(int(row['Count_Reads']))\n",
    "                samples[chr][g][c]['TPM_ctrl'] = np.mean(samples[chr][g][c]['TPM_list_ctrl'])\n",
    "                samples[chr][g][c]['Reads_ctrl'] = np.mean(samples[chr][g][c]['Reads_list_ctrl'])\n",
    "    for file in treat_samples:\n",
    "        print(\"Parsing file %s\" % os.path.join(treat_dir, file))\n",
    "        data = pandas.read_csv(os.path.join(treat_dir, file), sep='\\t')\n",
    "        for chr in data.Chr.unique():\n",
    "            if '_' not in chr:\n",
    "                if chr not in samples:\n",
    "                    samples[chr] = {}\n",
    "                for g in data.loc[data['Chr'] == chr, 'Gene_Id'].unique():\n",
    "                    if g not in samples[chr]:\n",
    "                        samples[chr][g] = {}\n",
    "        for index, row in data.iterrows():\n",
    "            chr = row['Chr']\n",
    "            if '_' not in chr:\n",
    "                g = row['Gene_Id']\n",
    "                c = int(row['Type_Number'])\n",
    "                start = int(row['start']) + 1\n",
    "                end = int(row['end']) + 1\n",
    "                if c not in samples[chr][g]:\n",
    "                    samples[chr][g][c] = {'type': row['Type'], 'start': start, 'end': end,\n",
    "                                          'TPM_list_ctrl': [], 'Reads_list_ctrl': [], 'TPM_ctrl': 0,\n",
    "                                          'Reads_ctrl': 0,\n",
    "                                          'TPM_list_treat': [], 'Reads_list_treat': [], 'TPM_treat': 0,\n",
    "                                          'Reads_treat': 0}\n",
    "                tpm = float(row['TPM'])\n",
    "                if tpm < 10E-5:\n",
    "                    tpm = 10E-5\n",
    "                samples[chr][g][c]['TPM_list_treat'].append(tpm)\n",
    "                samples[chr][g][c]['Reads_list_treat'].append(int(row['Count_Reads']))\n",
    "                samples[chr][g][c]['TPM_treat'] = np.mean(samples[chr][g][c]['TPM_list_treat'])\n",
    "                samples[chr][g][c]['Reads_treat'] = np.mean(samples[chr][g][c]['Reads_list_treat'])\n",
    "    return samples"
   ]
  },
  {
   "cell_type": "markdown",
   "metadata": {},
   "source": [
    "### Creating a pickle file to store the Python objects used by the DiffExpIR algorithm"
   ]
  },
  {
   "cell_type": "code",
   "execution_count": 16,
   "metadata": {},
   "outputs": [
    {
     "name": "stdout",
     "output_type": "stream",
     "text": [
      "Parsing file ./sim1-fake-qual_rep1_sorted_genes.ent\n",
      "Parsing file ./sim1-fake-qual_rep2_sorted_genes.ent\n",
      "Parsing file ./sim2-fake-qual_rep1_sorted_genes.ent\n",
      "Parsing file ./sim2-fake-qual_rep2_sorted_genes.ent\n",
      "Pickling ...\n"
     ]
    }
   ],
   "source": [
    "os.chdir(os.environ['RESULTS'] + '/' + os.environ['DATADIR'] + '/STAR_hg19_Human')\n",
    "pickle_file = 'samples_data.pickle'\n",
    "if not os.path.exists(pickle_file):    \n",
    "    try:\n",
    "        samples_data = extract_data('./', samples['ctrl'], './', samples['treat'])\n",
    "        print('Pickling ...')    \n",
    "        with open(pickle_file, 'wb') as f:\n",
    "            pickle.dump(samples_data, f, pickle.HIGHEST_PROTOCOL)\n",
    "    except Exception as e:\n",
    "        print('Unable to save data to', pickle_file, ':', e)\n",
    "else:\n",
    "    try:\n",
    "        print('Reading data for the ttest')\n",
    "        with open(pickle_file, 'rb') as f:\n",
    "            s_data_ttest = pickle.load(f)\n",
    "        print('Reading data for the Mann Whitney')\n",
    "        with open(pickle_file, 'rb') as f:\n",
    "            s_data_mannwhitneyu = pickle.load(f)\n",
    "        print('Reading data for the ttest with log values')\n",
    "        with open(pickle_file, 'rb') as f:\n",
    "            s_data_ttest_log = pickle.load(f)\n",
    "        print('Reading data for the Mann Whitney with log values')\n",
    "        with open(pickle_file, 'rb') as f:\n",
    "            s_data_mannwhitneyu_log = pickle.load(f)\n",
    "    except Exception as e:\n",
    "        print('Unable to process data from', pickle_file, ':', e)\n",
    "        raise"
   ]
  },
  {
   "cell_type": "markdown",
   "metadata": {},
   "source": [
    "### Function to process one intron in a gene\n",
    "\n",
    "This function executes the T-Test function to calculate the P-Value associated to the comparison among the control and treated samples. \n",
    "\n",
    "Then, the r values, $r = log_{2}\\lgroup\\frac{TPM^{intron}_i}{(TPM^{exon}_{i-1} + TPM^{exon}_{i+1})}\\rgroup$, is calculated.\n",
    "\n",
    "This function returns for the intron: PValue, $-1.0 * log_{10}(PValue)$, $r_{ctrl}$, $r_{treat}$, $log_{2}\\lgroup\\frac{TPM^{intron}_{treat}}{TPM^{intron}_{ctrl}}\\rgroup$\n"
   ]
  },
  {
   "cell_type": "code",
   "execution_count": 17,
   "metadata": {},
   "outputs": [],
   "source": [
    "def process_one(chr, g, a, samples, method, useLog10 = False):\n",
    "    equal_var = False\n",
    "    if len(samples[chr][g][a]['TPM_list_treat']) == len(samples[chr][g][a]['TPM_list_ctrl']):\n",
    "        equal_var = True\n",
    "    treat = []\n",
    "    ctrl = []\n",
    "    if useLog10:\n",
    "        for i in samples[chr][g][a]['TPM_list_treat']:            \n",
    "            treat.append(math.log10(i))\n",
    "        for i in samples[chr][g][a]['TPM_list_ctrl']:\n",
    "            ctrl.append(math.log10(i))\n",
    "    else:\n",
    "        treat = samples[chr][g][a]['TPM_list_treat']\n",
    "        ctrl = samples[chr][g][a]['TPM_list_ctrl']\n",
    "    if method == 'ttest':\n",
    "        t, p = stats.ttest_ind(treat, ctrl, equal_var=equal_var)\n",
    "    elif method == 'mannwhitneyu':\n",
    "        t, p = stats.mannwhitneyu(treat, ctrl)\n",
    "    else:\n",
    "        print('Error. Method should be ttest or mannwhitneyu')\n",
    "        return\n",
    "    c = a - 1\n",
    "    e11 = 0.0\n",
    "    e21 = 0.0\n",
    "    e12 = 0.0\n",
    "    e22 = 0.0\n",
    "    while c != 0:\n",
    "        if samples[chr][g][c]['type'] == 'exon':\n",
    "            e11 = samples[chr][g][c]['TPM_ctrl']\n",
    "            e21 = samples[chr][g][c]['TPM_treat']\n",
    "            break\n",
    "        c -= 1\n",
    "    c = a + 1\n",
    "    while c < len(samples[chr][g]):\n",
    "        if samples[chr][g][c]['type'] == 'exon':\n",
    "            e12 = samples[chr][g][c]['TPM_ctrl']\n",
    "            e22 = samples[chr][g][c]['TPM_treat']\n",
    "            break\n",
    "        c += 1\n",
    "    samples[chr][g][a]['p'] = p\n",
    "    minuslog10p = -1.0 * math.log10(p)\n",
    "    r1 = math.log2(samples[chr][g][a]['TPM_ctrl'] / (e11 + e12))\n",
    "    r2 = math.log2(samples[chr][g][a]['TPM_treat'] / (e21 + e22))    \n",
    "    log2TPMRatio = math.log2(samples[chr][g][a]['TPM_treat']/samples[chr][g][a]['TPM_ctrl'])\n",
    "    return p, minuslog10p, r1, r2, log2TPMRatio"
   ]
  },
  {
   "cell_type": "markdown",
   "metadata": {},
   "source": [
    "### Function to process all data\n",
    "\n",
    "This function process all genes with all introns. The results are inserted into the \"samples\" dictionary."
   ]
  },
  {
   "cell_type": "code",
   "execution_count": 18,
   "metadata": {},
   "outputs": [],
   "source": [
    "def process_sample(samples, method, useLog10 = False):   \n",
    "    count = 0\n",
    "    for chr in samples:\n",
    "        for g in samples[chr]:\n",
    "            for a in samples[chr][g]:\n",
    "                if samples[chr][g][a]['type'] == 'intron':\n",
    "                    try:\n",
    "                        p, minuslog10p, r1, r2, log2TPMRatio = process_one(chr, g, a, samples, method, useLog10)\n",
    "                        samples[chr][g][a]['p'] = p\n",
    "                        samples[chr][g][a]['minuslog10p'] = minuslog10p\n",
    "                        samples[chr][g][a]['r1'] = r1\n",
    "                        samples[chr][g][a]['r2'] = r2\n",
    "                        samples[chr][g][a]['log2TPMRatio'] = log2TPMRatio\n",
    "                    except:\n",
    "                        pass\n",
    "    return samples"
   ]
  },
  {
   "cell_type": "markdown",
   "metadata": {},
   "source": [
    "### Function to create the arrays to be ploted with colors\n",
    "\n",
    "This function return tree arrays x, y, c. The arrays x and y are the points to be plotted. x is $log_{2}\\lgroup\\frac{TPM^{intron}_{treat}}{TPM^{intron}_{ctrl}}\\rgroup$ and y is $-1.0 * log_{10}(PValue)$. c is an array of colors with red for statistically relevant points and black for the non relevants."
   ]
  },
  {
   "cell_type": "code",
   "execution_count": 19,
   "metadata": {},
   "outputs": [],
   "source": [
    "def process_plot(samples, r, p):\n",
    "    x_intron = []\n",
    "    y_intron = []\n",
    "    c_intron = []\n",
    "    for chr in samples:\n",
    "        for g in samples[chr]:\n",
    "            for a in samples[chr][g]:\n",
    "                if samples[chr][g][a]['type'] == 'intron' and 'r1' in samples[chr][g][a]:\n",
    "                    if samples[chr][g][a]['r1'] > r or samples[chr][g][a]['r2'] > r:\n",
    "                        y_intron.append(samples[chr][g][a]['minuslog10p'])\n",
    "                        x_intron.append(samples[chr][g][a]['log2TPMRatio'])\n",
    "                        if abs(samples[chr][g][a]['log2TPMRatio']) > 2 and samples[chr][g][a]['p'] < p:\n",
    "                            c_intron.append('red')\n",
    "                        else:\n",
    "                            c_intron.append('black')                    \n",
    "    return x_intron, y_intron, c_intron    "
   ]
  },
  {
   "cell_type": "markdown",
   "metadata": {},
   "source": [
    "### Printing the selected data"
   ]
  },
  {
   "cell_type": "code",
   "execution_count": 20,
   "metadata": {},
   "outputs": [],
   "source": [
    "def print_process_plot(samples, r, p, filename):\n",
    "    count = 0\n",
    "    with open(filename, 'w') as f_out:\n",
    "        for chr in samples:\n",
    "            for g in samples[chr]:\n",
    "                for a in samples[chr][g]:\n",
    "                    if samples[chr][g][a]['type'] == 'intron' and 'minuslog10p' in samples[chr][g][a]:\n",
    "                        if abs(samples[chr][g][a]['log2TPMRatio']) > 2 and samples[chr][g][a]['p'] < p and (samples[chr][g][a]['r1'] > r or samples[chr][g][a]['r2'] > r):\n",
    "                            count += 1\n",
    "                            f_out.write(\n",
    "                                g + '\\t' \n",
    "                                + chr + ':' + str(samples[chr][g][a]['start']) + '-' + str(samples[chr][g][a]['end'])\n",
    "                                + '\\t' + str(samples[chr][g][a]['p'])\n",
    "                                + '\\t' + str(samples[chr][g][a]['minuslog10p'])\n",
    "                                + '\\t' + str(samples[chr][g][a]['TPM_ctrl'])\n",
    "                                + '\\t' + str(samples[chr][g][a]['TPM_treat'])                            \n",
    "                                + '\\t' + str(samples[chr][g][a]['log2TPMRatio'])\n",
    "                                + '\\t' + str(samples[chr][g][a]['r1'])\n",
    "                                + '\\t' + str(samples[chr][g][a]['r2'])\n",
    "                                + '\\n')\n",
    "    return count"
   ]
  },
  {
   "cell_type": "markdown",
   "metadata": {},
   "source": [
    "### Processing data with the Ttest"
   ]
  },
  {
   "cell_type": "code",
   "execution_count": 25,
   "metadata": {},
   "outputs": [
    {
     "data": {
      "image/png": "[encoded data removed]",
      "text/plain": [
       "<matplotlib.figure.Figure at 0x7fe436e91438>"
      ]
     },
     "metadata": {},
     "output_type": "display_data"
    }
   ],
   "source": [
    "plt.figure(figsize=(12, 5)) \n",
    "gs = gridspec.GridSpec(1, 2) \n",
    "\n",
    "plt.subplot(gs[0])\n",
    "s_data_ttest = process_sample(s_data_ttest, 'ttest')\n",
    "count = print_process_plot(s_data_ttest, -1.0, 0.01, 'diff_exp_intron_retained_ttest.txt')\n",
    "x_intron, y_intron, c_intron = process_plot(s_data_ttest, -1.0, 0.01)\n",
    "plt.xlabel(r'$log_{2}(\\frac{TPM_{Intron/cond2}}{TPM_{Intron/cond1}})$')\n",
    "plt.scatter(x_intron, y_intron, s=1, c=c_intron)\n",
    "\n",
    "plt.subplot(gs[1])\n",
    "s_data_ttest_log = process_sample(s_data_ttest_log, 'ttest', True)\n",
    "count = print_process_plot(s_data_ttest_log, -1.0, 0.01, 'diff_exp_intron_retained_ttest_log10.txt')\n",
    "x_intron, y_intron, c_intron = process_plot(s_data_ttest_log, -1.0, 0.01)\n",
    "plt.yticks([])\n",
    "plt.xlabel(r'$log_{2}(\\frac{TPM_{Intron/cond2}}{TPM_{Intron/cond1}})$')\n",
    "plt.scatter(x_intron, y_intron, s=1, c=c_intron)\n",
    "\n",
    "plt.tight_layout()\n",
    "plt.show()"
   ]
  },
  {
   "cell_type": "markdown",
   "metadata": {},
   "source": [
    "## Processing the DiffExpIR (C++ version) output\n",
    "\n",
    "In this part, we will process the results obtained from the C++ code and compare it with the Python version and the IRFinder results."
   ]
  },
  {
   "cell_type": "code",
   "execution_count": 13,
   "metadata": {},
   "outputs": [
    {
     "data": {
      "text/html": [
       "<div>\n",
       "<style>\n",
       "    .dataframe thead tr:only-child th {\n",
       "        text-align: right;\n",
       "    }\n",
       "\n",
       "    .dataframe thead th {\n",
       "        text-align: left;\n",
       "    }\n",
       "\n",
       "    .dataframe tbody tr th {\n",
       "        vertical-align: top;\n",
       "    }\n",
       "</style>\n",
       "<table border=\"1\" class=\"dataframe\">\n",
       "  <thead>\n",
       "    <tr style=\"text-align: right;\">\n",
       "      <th></th>\n",
       "      <th>GeneId</th>\n",
       "      <th>Chr</th>\n",
       "      <th>Start</th>\n",
       "      <th>End</th>\n",
       "      <th>Intron_Start</th>\n",
       "      <th>Intron_End</th>\n",
       "      <th>Log2TPMRatio</th>\n",
       "      <th>TPM_1</th>\n",
       "      <th>TPM_2</th>\n",
       "      <th>minusLog10PValue</th>\n",
       "      <th>PValue</th>\n",
       "      <th>RValue_1</th>\n",
       "      <th>RValue_2</th>\n",
       "    </tr>\n",
       "  </thead>\n",
       "  <tbody>\n",
       "    <tr>\n",
       "      <th>0</th>\n",
       "      <td>WASH7P</td>\n",
       "      <td>chr1</td>\n",
       "      <td>14362</td>\n",
       "      <td>29370</td>\n",
       "      <td>17437</td>\n",
       "      <td>17605</td>\n",
       "      <td>-0.080498</td>\n",
       "      <td>28.14420</td>\n",
       "      <td>29.75920</td>\n",
       "      <td>1.34240</td>\n",
       "      <td>0.045456</td>\n",
       "      <td>-2.64540</td>\n",
       "      <td>-2.53817</td>\n",
       "    </tr>\n",
       "    <tr>\n",
       "      <th>1</th>\n",
       "      <td>CPSF3L</td>\n",
       "      <td>chr1</td>\n",
       "      <td>1246965</td>\n",
       "      <td>1260067</td>\n",
       "      <td>1248330</td>\n",
       "      <td>1248414</td>\n",
       "      <td>1.444110</td>\n",
       "      <td>8.97204</td>\n",
       "      <td>3.29739</td>\n",
       "      <td>1.49069</td>\n",
       "      <td>0.032308</td>\n",
       "      <td>-4.80417</td>\n",
       "      <td>-6.12529</td>\n",
       "    </tr>\n",
       "    <tr>\n",
       "      <th>2</th>\n",
       "      <td>CPSF3L</td>\n",
       "      <td>chr1</td>\n",
       "      <td>1246965</td>\n",
       "      <td>1260067</td>\n",
       "      <td>1255910</td>\n",
       "      <td>1256375</td>\n",
       "      <td>-0.153285</td>\n",
       "      <td>52.19680</td>\n",
       "      <td>58.04810</td>\n",
       "      <td>2.06348</td>\n",
       "      <td>0.008640</td>\n",
       "      <td>-3.23291</td>\n",
       "      <td>-3.27659</td>\n",
       "    </tr>\n",
       "    <tr>\n",
       "      <th>3</th>\n",
       "      <td>DVL1</td>\n",
       "      <td>chr1</td>\n",
       "      <td>1270658</td>\n",
       "      <td>1284492</td>\n",
       "      <td>1273817</td>\n",
       "      <td>1273901</td>\n",
       "      <td>-18.639400</td>\n",
       "      <td>0.00010</td>\n",
       "      <td>40.83370</td>\n",
       "      <td>1.68797</td>\n",
       "      <td>0.020513</td>\n",
       "      <td>-20.30730</td>\n",
       "      <td>-2.07316</td>\n",
       "    </tr>\n",
       "    <tr>\n",
       "      <th>4</th>\n",
       "      <td>DVL1</td>\n",
       "      <td>chr1</td>\n",
       "      <td>1270658</td>\n",
       "      <td>1284492</td>\n",
       "      <td>1274034</td>\n",
       "      <td>1274741</td>\n",
       "      <td>-2.967360</td>\n",
       "      <td>1.12058</td>\n",
       "      <td>8.76406</td>\n",
       "      <td>2.13422</td>\n",
       "      <td>0.007341</td>\n",
       "      <td>-7.43678</td>\n",
       "      <td>-5.10937</td>\n",
       "    </tr>\n",
       "  </tbody>\n",
       "</table>\n",
       "</div>"
      ],
      "text/plain": [
       "   GeneId   Chr    Start      End  Intron_Start  Intron_End  Log2TPMRatio  \\\n",
       "0  WASH7P  chr1    14362    29370         17437       17605     -0.080498   \n",
       "1  CPSF3L  chr1  1246965  1260067       1248330     1248414      1.444110   \n",
       "2  CPSF3L  chr1  1246965  1260067       1255910     1256375     -0.153285   \n",
       "3    DVL1  chr1  1270658  1284492       1273817     1273901    -18.639400   \n",
       "4    DVL1  chr1  1270658  1284492       1274034     1274741     -2.967360   \n",
       "\n",
       "      TPM_1     TPM_2  minusLog10PValue    PValue  RValue_1  RValue_2  \n",
       "0  28.14420  29.75920           1.34240  0.045456  -2.64540  -2.53817  \n",
       "1   8.97204   3.29739           1.49069  0.032308  -4.80417  -6.12529  \n",
       "2  52.19680  58.04810           2.06348  0.008640  -3.23291  -3.27659  \n",
       "3   0.00010  40.83370           1.68797  0.020513 -20.30730  -2.07316  \n",
       "4   1.12058   8.76406           2.13422  0.007341  -7.43678  -5.10937  "
      ]
     },
     "execution_count": 13,
     "metadata": {},
     "output_type": "execute_result"
    }
   ],
   "source": [
    "diffData = pandas.read_csv(os.environ['RESULTS'] + '/' + os.environ['DATADIR'] + '/STAR_hg19_Human/diffexpir.tsv', sep=\"\\t\")\n",
    "diffData.head()"
   ]
  },
  {
   "cell_type": "code",
   "execution_count": 14,
   "metadata": {
    "collapsed": true
   },
   "outputs": [],
   "source": [
    "def process_plot_diffexpir(data, r, p):\n",
    "    x_intron = []\n",
    "    y_intron = []\n",
    "    c_intron = []\n",
    "    for index, row in data.iterrows(): \n",
    "        if row['RValue_1'] > r or row['RValue_2'] > r:\n",
    "            y_intron.append(row['minusLog10PValue'])\n",
    "            x_intron.append(row['Log2TPMRatio'])\n",
    "            if abs(row['Log2TPMRatio']) > 2 and row['PValue'] < p:\n",
    "                c_intron.append('red')\n",
    "            else:\n",
    "                c_intron.append('black')                        \n",
    "    return x_intron, y_intron, c_intron    "
   ]
  },
  {
   "cell_type": "code",
   "execution_count": 15,
   "metadata": {
    "scrolled": true
   },
   "outputs": [
    {
     "data": {
      "image/png": "[encoded data removed]",
      "text/plain": [
       "<matplotlib.figure.Figure at 0x7fa7f31636d8>"
      ]
     },
     "metadata": {},
     "output_type": "display_data"
    }
   ],
   "source": [
    "x_intron, y_intron, c_intron = process_plot_diffexpir(diffData, -100.0, 0.005)\n",
    "plt.xlabel(r'$log_{2}(\\frac{TPM_{Intron/cond2}}{TPM_{Intron/cond1}})$')\n",
    "plt.scatter(x_intron, y_intron, s=1, c=c_intron)\n",
    "plt.show()"
   ]
  }
 ],
 "metadata": {
  "kernelspec": {
   "display_name": "Python 3",
   "language": "python",
   "name": "python3"
  },
  "language_info": {
   "codemirror_mode": {
    "name": "ipython",
    "version": 3
   },
   "file_extension": ".py",
   "mimetype": "text/x-python",
   "name": "python",
   "nbconvert_exporter": "python",
   "pygments_lexer": "ipython3",
   "version": "3.4.5"
  }
 },
 "nbformat": 4,
 "nbformat_minor": 2
}
